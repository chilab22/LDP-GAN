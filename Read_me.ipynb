{
 "cells": [
  {
   "cell_type": "markdown",
   "id": "bb5a8d90-6280-419e-a9da-04510ad7065a",
   "metadata": {},
   "source": [
    "# Generative Adversarial Network with Local Differential Privacy for patient data sysnthesis\n",
    "\n",
    "description"
   ]
  },
  {
   "cell_type": "markdown",
   "id": "a6f054ba-27d9-46bd-98bb-61054351bed9",
   "metadata": {},
   "source": [
    "# Require\n",
    "----------------------"
   ]
  },
  {
   "cell_type": "markdown",
   "id": "7c3ecb96-efac-400f-8dfb-e7f0c0867b9a",
   "metadata": {},
   "source": [
    "* python 3.8\n",
    "* tensorflow 2.6\n",
    "* sklearn 0.24.2\n",
    "* tensorflow_probability 0.14.1\n",
    "* matplotlib 3.4.2"
   ]
  },
  {
   "cell_type": "markdown",
   "id": "365a29c9-c8f2-4afb-b888-8f85dff6cb14",
   "metadata": {},
   "source": [
    "# Module\n",
    "-------------------------------------------"
   ]
  },
  {
   "cell_type": "markdown",
   "id": "c28f9c10-6816-42fc-8b86-17d567d5c341",
   "metadata": {},
   "source": [
    "* <span style=\"background-color:#D3D3D3\">train.py</span> train the GAN models\n",
    "\n",
    "* <span style=\"background-color:#D3D3D3\">Utility/build_DWS.py</span> Build Dimension Wise Statistics(DWS) model. \n",
    "In this module, the DWS scores and distances of each GAN model are calculated.\n",
    "\n",
    "* <span style=\"background-color:#D3D3D3\">Utility/build_DWA.py</span> Build Dimension Wise Average(DWA) model. In this module, the DWA scores and distances of each GAN model are calculated.\n",
    "\n",
    "* <span style=\"background-color:#D3D3D3\">Utility/build_DWP.py</span> Build Dimension Wise Prediction(DWP) model. \n",
    "In this module, the DWP scores and distances of each GAN model are calculated.\n",
    "\n",
    "* <span style=\"background-color:#D3D3D3\">Utility/build_Corr.py</span> Build Correlation model. In this module, the Correlation scores and distances of each GAN model are calculated.\n",
    "\n",
    "\n",
    "\n",
    "* <span style=\"background-color:#D3D3D3\">Privacy/build_FBA.py</span> Build Full Black-box Attack(FBA) model. In this module, FBA for each model is performed.\n",
    "\n",
    "* <span style=\"background-color:#D3D3D3\">Privacy/build_PBA.py</span> Build Partial Black-box Attack(PBA) model. In this module, PBA for each model is performed.\n",
    "\n",
    "* <span style=\"background-color:#D3D3D3\">Privacy/build_WGA.py</span> Build White-box Attack(WGA) model. In this module, WGA for each model is performed.\n",
    "\n",
    "* <span style=\"background-color:#D3D3D3\">Privacy/build_WDA.py</span> Build Whitebox-Discriminator Attack WDA model. In this module, WDA for each model is performed."
   ]
  },
  {
   "cell_type": "markdown",
   "id": "ba91607d-fc13-42d3-a018-76d904275ff2",
   "metadata": {},
   "source": [
    "# Usage\n",
    "-------------------------------------------"
   ]
  },
  {
   "cell_type": "markdown",
   "id": "a5692cb9-2795-4888-b4b1-34050f731b6a",
   "metadata": {},
   "source": [
    "## Model training"
   ]
  },
  {
   "cell_type": "markdown",
   "id": "c86dfc05-c1ba-4cb7-b71c-bf8e47e82a0a",
   "metadata": {},
   "source": [
    "#### usage with default"
   ]
  },
  {
   "cell_type": "markdown",
   "id": "42e31abb-6469-48ec-afa6-0d1cfea3b5c4",
   "metadata": {
    "tags": []
   },
   "source": [
    "```shell\n",
    "python3 train.py\n",
    "```"
   ]
  },
  {
   "cell_type": "markdown",
   "id": "78064441-0375-4c10-afb7-dfde6c902361",
   "metadata": {},
   "source": [
    "#### options\n",
    "\n",
    "* <span style=\"background-color:#D3D3D3\">--epochs</span> Number of training epochs(int, defaul = 100000)\n",
    "\n",
    "* <span style=\"background-color:#D3D3D3\">--GPU</span> Index of the GPU to use (int, default = 0)\n",
    "\n",
    "* <span style=\"background-color:#D3D3D3\">--epsilons</span> Epsilons to use (float, default = [0.1, 0.25, 0.5, 0.75, 1, 2.5, 5, 7.5, 10, 20])\n",
    "\n",
    "* <span style=\"background-color:#D3D3D3\">--Models</span> Kind of model to train. \n",
    "There are two types of selectable models, \"LDP\" and \"DP\". (text , default = ['LDP', 'DP'])\n",
    "\n",
    "* <span style=\"background-color:#D3D3D3\">--lr</span> Learning rate(float, default = 0.00005)\n",
    "\n",
    "* <span style=\"background-color:#D3D3D3\">--latent_dim</span> Dimension of latent vector (int, default = 100)\n",
    "\n",
    "* <span style=\"background-color:#D3D3D3\">--n_critics</span> Training epochs of Critics per Generator training epoch (int, defalut = 5)\n",
    "\n",
    "* <span style=\"background-color:#D3D3D3\">--lambd</span> Lambda of Wasserstain-loss (int, default = 10)\n",
    "\n",
    "* <span style=\"background-color:#D3D3D3\">--log_step</span> The training status is displayed at every log step. (int, default = 5000)\n",
    "\n",
    "* <span style=\"background-color:#D3D3D3\">--decay</span> Proportion of the learning rate that will change at each log step (float, default = 0.995)\n",
    "\n",
    "* <span style=\"background-color:#D3D3D3\">--data</span> The name of the data to use for training file(csv).The data should be in the \"/data\" directory. (text, default = \"train_data.csv)"
   ]
  },
  {
   "cell_type": "markdown",
   "id": "fd9c2b73-8437-4f2d-983f-908551f223de",
   "metadata": {},
   "source": [
    "####  optional usage"
   ]
  },
  {
   "cell_type": "markdown",
   "id": "f481abfa-05c9-4da5-a26a-390fc93072da",
   "metadata": {},
   "source": [
    "```shell\n",
    "python3 train.py --epochs 200000 --lr 0.0001 --epsilons 1.0 3.0 5.0 7.0 9.0 11.0 13.0 15.0 --GPU 1 --data train_data2.csv\n",
    "\n",
    "```"
   ]
  },
  {
   "cell_type": "markdown",
   "id": "18befbbc-838c-4527-ab16-389427c93f3b",
   "metadata": {},
   "source": [
    "  "
   ]
  },
  {
   "cell_type": "markdown",
   "id": "307deca6-a761-4709-afce-9c3f060d8ad1",
   "metadata": {},
   "source": [
    "\n",
    "\n",
    "## Build Utility model"
   ]
  },
  {
   "cell_type": "markdown",
   "id": "ce8eece0-770e-45ac-8486-f6a38f9a2472",
   "metadata": {},
   "source": [
    "####  usage with default"
   ]
  },
  {
   "cell_type": "markdown",
   "id": "a5ae3180-b32f-448d-8cf2-8dc8692c89b3",
   "metadata": {},
   "source": [
    "```shell\n",
    "\n",
    "python3 Utility/build_DWS.py\n",
    "\n",
    "\n",
    "```\n",
    "```shell\n",
    "\n",
    "python3 Utility/build_DWA.py\n",
    "\n",
    "\n",
    "```\n",
    "```shell\n",
    "\n",
    "python3 Utility/build_DWP.py\n",
    "\n",
    "\n",
    "```\n",
    "\n",
    "```shell\n",
    "\n",
    "python3 Utility/build_Corr.py\n",
    "\n",
    "\n",
    "```"
   ]
  },
  {
   "cell_type": "markdown",
   "id": "5f88845b-5df4-457e-93e9-5fc2f7aacedd",
   "metadata": {},
   "source": [
    "#### options"
   ]
  },
  {
   "cell_type": "markdown",
   "id": "a1bb298a-4570-477f-b89a-87b7eca11dd4",
   "metadata": {},
   "source": [
    "* <span style=\"background-color:#D3D3D3\">--data</span> Name of real data file(csv). This option is not used for \"build_DWP.py\". The data should be in the \"/data\" directory  (text, defaul = \"train_data.csv\")\n",
    "\n",
    "* <span style=\"background-color:#D3D3D3\">--latent_dim</span> Dimension of latent vector (int, default = 100)\n",
    "\n",
    "* <span style=\"background-color:#D3D3D3\">--GPU</span> Index of the GPU to use (int, default = 0)\n",
    "\n",
    "* <span style=\"background-color:#D3D3D3\">--epochs</span> Number of training epochs(int, defaul = 100000)\n",
    "\n",
    "* <span style=\"background-color:#D3D3D3\">--epsilons</span> Epsilons to use (float, default = [0.1, 0.25, 0.5, 0.75, 1, 2.5, 5, 7.5, 10, 20])\n",
    "\n",
    "* <span style=\"background-color:#D3D3D3\">--Models</span> Kind of model to train. \n",
    "There are two types of selectable models, \"LDP\" and \"DP\". (text , default = ['LDP', 'DP'])\n",
    "\n",
    "* <span style=\"background-color:#D3D3D3\">--train</span> Name of train data file(csv). This options is only for \"build_DWP.py\" (text , default = 'train_data.csv')\n",
    "\n",
    "* <span style=\"background-color:#D3D3D3\">--ho</span>  Name of train data file(csv). This option is only for \"build_DWP.py\" (text , default = 'ho_data.csv')"
   ]
  },
  {
   "cell_type": "markdown",
   "id": "9b4bdc54-bdb9-4a78-8dc3-e56d0d39201a",
   "metadata": {},
   "source": [
    "#### optional usage\n",
    "```shell\n",
    "\n",
    "python3 Utility/build_DWS.py  --data train_data.csv --GPU 1 --epochs 200000  \n",
    "\n",
    "\n",
    "```\n",
    "```shell\n",
    "\n",
    "python3 Utility/build_DWA.py --data train_data.csv --GPU 1 --epochs 200000 \n",
    "\n",
    "\n",
    "```\n",
    "```shell\n",
    "\n",
    "python3 Utility/build_DWP.py --train train_data.csv --ho ho_data.csv --GPU 1 --epochs 200000 \n",
    "\n",
    "\n",
    "```\n",
    "\n",
    "```shell\n",
    "\n",
    "python3 Utility/build_Corr.py --data train_data.csv --GPU 1 --epochs 200000 \n",
    "\n",
    "\n",
    "```"
   ]
  },
  {
   "cell_type": "markdown",
   "id": "6b348b37-52f6-4b0a-8ccb-7c6c1689d19f",
   "metadata": {},
   "source": [
    "## Display Utility Result"
   ]
  },
  {
   "cell_type": "markdown",
   "id": "062892ff-bec0-4544-827b-92d5215b6567",
   "metadata": {},
   "source": [
    "#### usage with default"
   ]
  },
  {
   "cell_type": "markdown",
   "id": "368563fd-b8a9-42af-8c7a-936c645d2481",
   "metadata": {},
   "source": [
    "```shell\n",
    "\n",
    "python3 Utility/display_DWS.py\n",
    "\n",
    "\n",
    "```\n",
    "```shell\n",
    "\n",
    "python3 Utility/display_DWA.py\n",
    "\n",
    "\n",
    "```\n",
    "```shell\n",
    "\n",
    "python3 Utility/display_DWP.py\n",
    "\n",
    "\n",
    "```\n",
    "\n",
    "```shell\n",
    "\n",
    "python3 Utility/display_Corr.py\n",
    "\n",
    "\n",
    "```"
   ]
  },
  {
   "cell_type": "markdown",
   "id": "20938e19-0601-478c-a7f0-ed082194e2aa",
   "metadata": {},
   "source": [
    "#### options "
   ]
  },
  {
   "cell_type": "markdown",
   "id": "879feb47-8689-42de-adfa-29c4d0f8ccbd",
   "metadata": {},
   "source": [
    "* <span style=\"background-color:#D3D3D3\">--epsilons</span> Epsilons to use (float, default = [0.1, 0.25, 0.5, 0.75, 1, 2.5, 5, 7.5, 10, 20])\n",
    "\n",
    "* <span style=\"background-color:#D3D3D3\">--Models</span> Kind of model to train. \n",
    "There are two types of selectable models, \"LDP\" and \"DP\". (text , default = ['LDP', 'DP'])\n",
    "\n",
    "* <span style=\"background-color:#D3D3D3\">--fig_size</span> size of figures  (float, default = 5.0)\n",
    "\n",
    "* <span style=\"background-color:#D3D3D3\">--cmap</span> Color of correlation matrix. This option is only for \"display_Corr.py\" (text, default = \"GnBu\")\n",
    "\n",
    "* <span style=\"background-color:#D3D3D3\">--data</span> Name of real data file(csv). This option is only for \"display_corr.py\". The data should be in the \"/data\" directory  (text, defaul = \"train_data.csv\")"
   ]
  },
  {
   "cell_type": "markdown",
   "id": "06cbfe3d-ccd2-4028-b75d-63e5597a918e",
   "metadata": {},
   "source": [
    "#### optional usage"
   ]
  },
  {
   "cell_type": "markdown",
   "id": "7d27683a-07fb-4a4f-b3d4-abff877676ef",
   "metadata": {},
   "source": [
    "```shell\n",
    "\n",
    "python3 Utility/display_DWS.py --fig_size 3 \n",
    "\n",
    "\n",
    "```\n",
    "```shell\n",
    "\n",
    "python3 Utility/display_DWA.py --fig_size 3\n",
    "\n",
    "\n",
    "```\n",
    "```shell\n",
    "\n",
    "python3 Utility/display_DWP.py --fig_size 3 \n",
    "\n",
    "\n",
    "```\n",
    "\n",
    "```shell\n",
    "\n",
    "python3 Utility/display_Corr.py --data ho_data.csv --cmap \"BuPu\"\n",
    "\n",
    "\n",
    "```"
   ]
  },
  {
   "cell_type": "markdown",
   "id": "4bf202cb-a15f-434d-a8d4-5784ca69d10d",
   "metadata": {},
   "source": [
    "#### Perform all utility experiments\n",
    "You can adjust the options by editing the \"Utility/run_utility.sh\" file."
   ]
  },
  {
   "cell_type": "markdown",
   "id": "dc4bfc7e-9a2d-483a-aae7-a7a6c1aacb85",
   "metadata": {},
   "source": [
    "```shell\n",
    "\n",
    "sh Utility/run_utility.sh\n",
    "\n",
    "\n",
    "```\n"
   ]
  },
  {
   "cell_type": "markdown",
   "id": "f3898d85-dcc8-48e7-ae14-c7c0cbdef908",
   "metadata": {},
   "source": [
    "## Build Privacy model"
   ]
  },
  {
   "cell_type": "markdown",
   "id": "60f26edf-35a1-4d0e-8bb4-6aedfb436ecc",
   "metadata": {},
   "source": [
    "#### usage with default"
   ]
  },
  {
   "cell_type": "markdown",
   "id": "86904721-8712-401a-a654-88e25e0083c2",
   "metadata": {},
   "source": [
    "```shell\n",
    "\n",
    "python3 Privacy/build_FBA.py \n",
    "\n",
    "\n",
    "```\n",
    "```shell\n",
    "\n",
    "python3 Privacy/build_PBA.py \n",
    "\n",
    "```\n",
    "```shell\n",
    "\n",
    "python3 Privacy/build_WGA.py\n",
    "\n",
    "\n",
    "```\n",
    "\n",
    "```shell\n",
    "\n",
    "python3 Privacy/build_WDA.py \n",
    "\n",
    "\n",
    "```"
   ]
  },
  {
   "cell_type": "markdown",
   "id": "70b338a1-9d43-41bc-a5ca-93b6db7a6cde",
   "metadata": {},
   "source": [
    "#### options"
   ]
  },
  {
   "cell_type": "markdown",
   "id": "8e3174d9-e7f2-41f3-820b-8277b62d7ca6",
   "metadata": {},
   "source": [
    "* <span style=\"background-color:#D3D3D3\">--GPU</span> Index of the GPU to use (int, default = 0)\n",
    "\n",
    "* <span style=\"background-color:#D3D3D3\">--epsilons</span> Epsilons to use (float, default = [0.1, 0.25, 0.5, 0.75, 1, 2.5, 5, 7.5, 10, 20])\n",
    "\n",
    "* <span style=\"background-color:#D3D3D3\">--Models</span> Kind of model to train. There are two types of selectable models, \"LDP\" and \"DP\". (text , default = ['LDP', 'DP'])\n",
    "* <span style=\"background-color:#D3D3D3\">--latent_dim</span> Dimension of latent vector.Must match the model's latent_dim. (int, default = 100)\n",
    "\n",
    "* <span style=\"background-color:#D3D3D3\">--threshold</span> the boundary of the distance. If the distance is less than the threshold, it is assumed that the target data is used for the train. (float, default = 0.05/0.025/0.005/300)\n",
    "\n",
    "* <span style=\"background-color:#D3D3D3\">--n_target</span> The number of targets to infer. (int, default = 600)\n",
    "\n",
    "* <span style=\"background-color:#D3D3D3\">--attack_on</span> File name of the data to be attacked(csv).The data should be in the \"/data\" directory.  (text, default = \"train_data.csv\")\n",
    "\n",
    "* <span style=\"background-color:#D3D3D3\">--n_syn</span> The number of data FBA generates for attacks. This option is only for \"build_FBA.py\" (int, default = 500)\n",
    "\n",
    "* <span style=\"background-color:#D3D3D3\">--max_iterations</span> max_iterations of nelder_mead/l-bfgs algorithms. This option is only for \"build_PBA.py\" and \"build_WGA.py\".(text, default = 500)"
   ]
  },
  {
   "cell_type": "markdown",
   "id": "c4b7fb35-fa89-4806-ab68-f06229e0c275",
   "metadata": {},
   "source": [
    "#### optional usage"
   ]
  },
  {
   "cell_type": "markdown",
   "id": "77e2d02b-bab7-4cc2-b511-199a9180c488",
   "metadata": {},
   "source": [
    "```shell\n",
    "\n",
    "python3 Privacy/build_FBA.py --n_syn 1000 --attack_on ho_data.csv\n",
    "\n",
    "\n",
    "```\n",
    "```shell\n",
    "\n",
    "python3 Privacy/build_PBA.py --max_iterations 300 --n_target 1000\n",
    "\n",
    "```\n",
    "```shell\n",
    "\n",
    "python3 Privacy/build_WGA.py --max_iterations 300 --n_target 1000\n",
    "\n",
    "\n",
    "```\n",
    "\n",
    "```shell\n",
    "\n",
    "python3 Privacy/build_WDA.py  --max_iterations 300 --n_target 1000 --threshold 400\n",
    "\n",
    "\n",
    "```"
   ]
  },
  {
   "cell_type": "markdown",
   "id": "7e2ff692-5545-4ae3-b542-b7c5dec7aa81",
   "metadata": {},
   "source": [
    "## Display Attack Result"
   ]
  },
  {
   "cell_type": "markdown",
   "id": "e1ebd0a7-dfb5-4444-848f-dbbe17328a85",
   "metadata": {},
   "source": [
    "#### usage with default"
   ]
  },
  {
   "cell_type": "markdown",
   "id": "69ce72cf-5470-4d7c-93a6-0f7547773360",
   "metadata": {},
   "source": [
    "```shell\n",
    "\n",
    "python3 Privacy/build_FBA.py \n",
    "\n",
    "```\n",
    "```shell\n",
    "\n",
    "python3 Privacy/build_PBA.py \n",
    "\n",
    "```\n",
    "```shell\n",
    "\n",
    "python3 Privacy/build_WGA.py\n",
    "\n",
    "```\n",
    "```shell\n",
    "\n",
    "python3 Privacy/build_WDA.py \n",
    "\n",
    "\n",
    "```"
   ]
  },
  {
   "cell_type": "markdown",
   "id": "10be0371-b25a-498f-9a3d-9462d01ce897",
   "metadata": {},
   "source": [
    "#### options "
   ]
  },
  {
   "cell_type": "markdown",
   "id": "e42e4106-324d-474a-b833-ca56cc482632",
   "metadata": {},
   "source": [
    "* <span style=\"background-color:#D3D3D3\">--epsilons</span> Epsilons to use (float, default = [0.1, 0.25, 0.5, 0.75, 1, 2.5, 5, 7.5, 10, 20])\n",
    "\n",
    "* <span style=\"background-color:#D3D3D3\">--Models</span> Kind of model to train. \n",
    "There are two types of selectable models, \"LDP\" and \"DP\". (text , default = ['LDP', 'DP']')\n",
    "\n",
    "* <span style=\"background-color:#D3D3D3\">--fig_size</span> size of figures  (float, default = 5.0)\n",
    "\n",
    "* <span style=\"background-color:#D3D3D3\">--facecolor</span> Base color of figure. (text, default = '#eaeaf2')\n",
    "\n",
    "* <span style=\"background-color:#D3D3D3\">--color_DP</span> Color of DP chart. (text, default = \"#fd625e\")\n",
    "\n",
    "* <span style=\"background-color:#D3D3D3\">--color_LDP</span> Color of LDP chart. (text, default = \"#01b8aa\")\n",
    "\n",
    "* <span style=\"background-color:#D3D3D3\">--GPU</span> Color of LDP chart. (int, default = 0)\n"
   ]
  },
  {
   "cell_type": "markdown",
   "id": "32f6562f-1a95-4c79-acff-253f3e0a7834",
   "metadata": {},
   "source": [
    "#### optional usage"
   ]
  },
  {
   "cell_type": "markdown",
   "id": "39e889f9-f2fa-4fad-b4b7-9ef56968a643",
   "metadata": {},
   "source": [
    "```shell\n",
    "\n",
    "python3 Privacy/build_FBA.py  --color_DP '#01b8aa'  --color_LDP '#fd625e' --fig_size 3.0\n",
    "\n",
    "```\n",
    "```shell\n",
    "\n",
    "python3 Privacy/build_PBA.py --color_DP '#01b8aa'  --color_LDP '#fd625e' --fig_size 3.0\n",
    "\n",
    "```\n",
    "```shell\n",
    "\n",
    "python3 Privacy/build_WGA.py --color_DP '#01b8aa'  --color_LDP '#fd625e' --fig_size 3.0\n",
    "\n",
    "```\n",
    "```shell\n",
    "\n",
    "python3 Privacy/build_WDA.py --color_DP '#01b8aa'  --color_LDP '#fd625e' --fig_size 3.0\n",
    "\n",
    "\n",
    "```"
   ]
  },
  {
   "cell_type": "markdown",
   "id": "5ca380ee-348a-4d7c-bf91-ecb5fd726c09",
   "metadata": {},
   "source": [
    "#### Perform all utility experiments\n",
    "You can adjust the options by editing the \"Utility/run_privacy.sh\" file."
   ]
  },
  {
   "cell_type": "markdown",
   "id": "9cd488c2-c130-4c29-acfd-edb3e4a8727b",
   "metadata": {},
   "source": [
    "```shell\n",
    "\n",
    "sh Utility/run_privacy.sh\n",
    "\n",
    "\n",
    "```"
   ]
  },
  {
   "cell_type": "markdown",
   "id": "cd4ca5f5-7039-431e-a470-95e5df149251",
   "metadata": {},
   "source": [
    "## Display trade-off"
   ]
  },
  {
   "cell_type": "markdown",
   "id": "77e12f1a-95d0-4961-ab1d-321a9aa06f34",
   "metadata": {},
   "source": [
    "#### usage with default"
   ]
  },
  {
   "cell_type": "markdown",
   "id": "f06f2925-fa1a-4271-859b-f8c261d5e43c",
   "metadata": {},
   "source": [
    "```shell\n",
    "\n",
    "python3 trade-off/trade-off.py \n",
    "\n",
    "\n",
    "```"
   ]
  },
  {
   "cell_type": "markdown",
   "id": "53a4a877-bbe4-45a5-9fc4-3dd067a307bb",
   "metadata": {},
   "source": [
    "#### options"
   ]
  },
  {
   "cell_type": "markdown",
   "id": "bae35b16-3214-42b2-a0b0-7a9ab9c1c692",
   "metadata": {},
   "source": [
    "* <span style=\"background-color:#D3D3D3\">--epsilons</span> Epsilons to use (float, default = [0.1, 0.25, 0.5, 0.75, 1, 2.5, 5, 7.5, 10, 20])\n",
    "\n",
    "* <span style=\"background-color:#D3D3D3\">--Models</span> Kind of model to train. \n",
    "There are two types of selectable models, \"LDP\" and \"DP\". (text , default = ['LDP', 'DP'])\n",
    "\n",
    "* <span style=\"background-color:#D3D3D3\">--fig_size</span> size of figures  (float, default = 5.0)\n",
    "\n",
    "* <span style=\"background-color:#D3D3D3\">--facecolor</span> Base color of figure. (text, default = '#eaeaf2')\n",
    "\n",
    "* <span style=\"background-color:#D3D3D3\">--color_DP</span> Color of DP chart. (text, default = \"#fd625e\")\n",
    "\n",
    "* <span style=\"background-color:#D3D3D3\">--color_LDP</span> Color of LDP chart. (text, default = \"#01b8aa\")\n",
    "\n",
    "* <span style=\"background-color:#D3D3D3\">--GPU</span> Color of LDP chart. (int, default = 0)\n",
    "\n",
    "* <span style=\"background-color:#D3D3D3\">--utility_models</span> Utility metrics to display trade-off.(text, default = ['DWS','DWA','DWP','Corr'])\n",
    "\n",
    "* <span style=\"background-color:#D3D3D3\">--attack_models</span> Attack metrics to display trade-off (text,  default = ['FBA','PBA','WGA','WDA'])  "
   ]
  },
  {
   "cell_type": "markdown",
   "id": "7953ba92-3a20-4128-8d95-cc8658edfeb5",
   "metadata": {},
   "source": [
    "#### optional usage"
   ]
  },
  {
   "cell_type": "markdown",
   "id": "e1003937-347a-4fc4-ba4f-5aeafd0eb6f4",
   "metadata": {},
   "source": [
    "```shell\n",
    "\n",
    "python3 trade-off/trade-off.py  --fig_size --utility_models DWS DWA DWP --privacy_models FBA PBA WGA\n",
    "\n",
    "\n",
    "```"
   ]
  },
  {
   "cell_type": "code",
   "execution_count": null,
   "id": "eb33894e-b4d2-4299-9b50-fb51d37bc077",
   "metadata": {},
   "outputs": [],
   "source": []
  }
 ],
 "metadata": {
  "kernelspec": {
   "display_name": "Python 3",
   "language": "python",
   "name": "python3"
  },
  "language_info": {
   "codemirror_mode": {
    "name": "ipython",
    "version": 3
   },
   "file_extension": ".py",
   "mimetype": "text/x-python",
   "name": "python",
   "nbconvert_exporter": "python",
   "pygments_lexer": "ipython3",
   "version": "3.8.10"
  }
 },
 "nbformat": 4,
 "nbformat_minor": 5
}
